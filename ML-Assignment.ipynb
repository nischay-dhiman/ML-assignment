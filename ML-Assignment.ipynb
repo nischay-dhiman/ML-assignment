{
 "cells": [
  {
   "cell_type": "code",
   "execution_count": 2,
   "id": "b9e8acd1",
   "metadata": {},
   "outputs": [
    {
     "name": "stdout",
     "output_type": "stream",
     "text": [
      "Requirement already satisfied: pandas in /Library/Frameworks/Python.framework/Versions/3.10/lib/python3.10/site-packages (1.4.2)\n",
      "Requirement already satisfied: pytz>=2020.1 in /Library/Frameworks/Python.framework/Versions/3.10/lib/python3.10/site-packages (from pandas) (2021.3)\n",
      "Requirement already satisfied: numpy>=1.21.0 in /Library/Frameworks/Python.framework/Versions/3.10/lib/python3.10/site-packages (from pandas) (1.22.3)\n",
      "Requirement already satisfied: python-dateutil>=2.8.1 in /Library/Frameworks/Python.framework/Versions/3.10/lib/python3.10/site-packages (from pandas) (2.8.2)\n",
      "Requirement already satisfied: six>=1.5 in /Library/Frameworks/Python.framework/Versions/3.10/lib/python3.10/site-packages (from python-dateutil>=2.8.1->pandas) (1.16.0)\n",
      "\u001b[33mWARNING: You are using pip version 21.3.1; however, version 22.1.2 is available.\n",
      "You should consider upgrading via the '/Library/Frameworks/Python.framework/Versions/3.10/bin/python3 -m pip install --upgrade pip' command.\u001b[0m\n"
     ]
    }
   ],
   "source": [
    "!pip3 install pandas"
   ]
  },
  {
   "cell_type": "code",
   "execution_count": 19,
   "id": "4374c4dc",
   "metadata": {},
   "outputs": [],
   "source": [
    "import pandas as pd\n",
    "from sklearn.neighbors import KNeighborsClassifier\n",
    "from sklearn.model_selection import cross_validate\n",
    "import numpy as np\n",
    "from sklearn.metrics import plot_precision_recall_curve\n",
    "import matplotlib.pyplot as plt\n",
    "from sklearn.model_selection import train_test_split"
   ]
  },
  {
   "cell_type": "code",
   "execution_count": 10,
   "id": "ae8e769b",
   "metadata": {},
   "outputs": [],
   "source": [
    "df2 = pd.read_csv('diabetes.csv')\n",
    "df2.head()\n",
    "X2 = df2.iloc[:,0:-1]\n",
    "y2 = df2.iloc[:,-1]"
   ]
  },
  {
   "cell_type": "code",
   "execution_count": 11,
   "id": "5a6afc6b",
   "metadata": {},
   "outputs": [
    {
     "name": "stdout",
     "output_type": "stream",
     "text": [
      "   Pregnancies  Glucose  BloodPressure  SkinThickness  Insulin   BMI  \\\n",
      "0            6      148             72             35        0  33.6   \n",
      "1            1       85             66             29        0  26.6   \n",
      "2            8      183             64              0        0  23.3   \n",
      "3            1       89             66             23       94  28.1   \n",
      "4            0      137             40             35      168  43.1   \n",
      "\n",
      "   DiabetesPedigreeFunction  Age  \n",
      "0                     0.627   50  \n",
      "1                     0.351   31  \n",
      "2                     0.672   32  \n",
      "3                     0.167   21  \n",
      "4                     2.288   33   \n",
      "\n",
      "labels:\n",
      " 0    1\n",
      "1    0\n",
      "2    1\n",
      "3    0\n",
      "4    1\n",
      "Name: Outcome, dtype: int64\n"
     ]
    }
   ],
   "source": [
    "print(X2.head(),'\\n')\n",
    "print('labels:\\n',y2.head())"
   ]
  },
  {
   "cell_type": "code",
   "execution_count": 12,
   "id": "92295466",
   "metadata": {},
   "outputs": [
    {
     "name": "stderr",
     "output_type": "stream",
     "text": [
      "/var/folders/8r/zpt069bx21b10h_2fztx_20c0000gn/T/ipykernel_83028/1317924507.py:3: UserWarning: To output multiple subplots, the figure containing the passed axes is being cleared.\n",
      "  df2.hist(ax=ax)\n"
     ]
    },
    {
     "data": {
      "image/png": "[encoded data removed]",
      "text/plain": [
       "<Figure size 432x432 with 9 Axes>"
      ]
     },
     "metadata": {
      "needs_background": "light"
     },
     "output_type": "display_data"
    }
   ],
   "source": [
    "fig = plt.figure(figsize = (6,6))\n",
    "ax = fig.gca()\n",
    "df2.hist(ax=ax)\n",
    "plt.show()"
   ]
  },
  {
   "cell_type": "code",
   "execution_count": 13,
   "id": "bf421fd6",
   "metadata": {},
   "outputs": [
    {
     "name": "stdout",
     "output_type": "stream",
     "text": [
      "<class 'numpy.ndarray'>\n"
     ]
    }
   ],
   "source": [
    "from sklearn import preprocessing\n",
    "\n",
    "s = preprocessing.MinMaxScaler()\n",
    "s.fit(X2)\n",
    "X_norm2 = s.transform(X2)\n",
    "\n",
    "# X = preprocessing.normalize(X, norm='l2')\n",
    "\n",
    "print(type(X_norm2))"
   ]
  },
  {
   "cell_type": "code",
   "execution_count": 62,
   "id": "616b57f4",
   "metadata": {
    "scrolled": true
   },
   "outputs": [
    {
     "name": "stdout",
     "output_type": "stream",
     "text": [
      "Before Normalization\n",
      "   Pregnancies  Glucose  BloodPressure  SkinThickness  Insulin   BMI  \\\n",
      "0            6      148             72             35        0  33.6   \n",
      "1            1       85             66             29        0  26.6   \n",
      "2            8      183             64              0        0  23.3   \n",
      "3            1       89             66             23       94  28.1   \n",
      "4            0      137             40             35      168  43.1   \n",
      "\n",
      "   DiabetesPedigreeFunction  Age  \n",
      "0                     0.627   50  \n",
      "1                     0.351   31  \n",
      "2                     0.672   32  \n",
      "3                     0.167   21  \n",
      "4                     2.288   33   \n",
      "\n",
      "After Normalization\n",
      "          0         1         2         3         4         5         6  \\\n",
      "0  0.352941  0.743719  0.590164  0.353535  0.000000  0.500745  0.234415   \n",
      "1  0.058824  0.427136  0.540984  0.292929  0.000000  0.396423  0.116567   \n",
      "2  0.470588  0.919598  0.524590  0.000000  0.000000  0.347243  0.253629   \n",
      "3  0.058824  0.447236  0.540984  0.232323  0.111111  0.418778  0.038002   \n",
      "4  0.000000  0.688442  0.327869  0.353535  0.198582  0.642325  0.943638   \n",
      "\n",
      "          7  \n",
      "0  0.483333  \n",
      "1  0.166667  \n",
      "2  0.183333  \n",
      "3  0.000000  \n",
      "4  0.200000  \n"
     ]
    }
   ],
   "source": [
    "print('Before Normalization')\n",
    "print(X2.head(),'\\n')\n",
    "print('After Normalization')\n",
    "print((pd.DataFrame(X_norm2)).head())"
   ]
  },
  {
   "cell_type": "markdown",
   "id": "2455ad24",
   "metadata": {},
   "source": [
    "## Performance Metrics"
   ]
  },
  {
   "cell_type": "code",
   "execution_count": 14,
   "id": "7966b2f9",
   "metadata": {
    "scrolled": true
   },
   "outputs": [
    {
     "name": "stdout",
     "output_type": "stream",
     "text": [
      "Average precision is: 0.7146309019885871\n",
      "Average recall is: 0.47393431167016076\n",
      "Average accuracy is: 0.750021220609456\n"
     ]
    }
   ],
   "source": [
    "scoring = ['precision', 'recall', 'accuracy']\n",
    "clf2 = KNeighborsClassifier(n_neighbors=12, metric='euclidean')\n",
    "scores2 = cross_validate(clf2, X_norm2, y2,cv=5, scoring=scoring)\n",
    "\n",
    "prec2 = np.mean(scores2['test_precision'])\n",
    "rec2 = np.mean(scores2['test_recall'])\n",
    "acc2 = np.mean(scores2['test_accuracy'])\n",
    "\n",
    "print('Average precision is:' , prec2)\n",
    "print('Average recall is:' , rec2)\n",
    "print('Average accuracy is:' , acc2)"
   ]
  },
  {
   "cell_type": "markdown",
   "id": "6304b81e",
   "metadata": {},
   "source": [
    "## Precision Recall Curve"
   ]
  },
  {
   "cell_type": "code",
   "execution_count": 17,
   "id": "f34be951",
   "metadata": {},
   "outputs": [
    {
     "name": "stderr",
     "output_type": "stream",
     "text": [
      "/usr/local/lib/python3.9/site-packages/sklearn/utils/deprecation.py:87: FutureWarning: Function plot_precision_recall_curve is deprecated; Function `plot_precision_recall_curve` is deprecated in 1.0 and will be removed in 1.2. Use one of the class methods: PrecisionRecallDisplay.from_predictions or PrecisionRecallDisplay.from_estimator.\n",
      "  warnings.warn(msg, category=FutureWarning)\n"
     ]
    },
    {
     "data": {
      "text/plain": [
       "Text(0.5, 1.0, '2-class Precision-Recall curve')"
      ]
     },
     "execution_count": 17,
     "metadata": {},
     "output_type": "execute_result"
    },
    {
     "data": {
      "image/png": "[encoded data removed]",
      "text/plain": [
       "<Figure size 432x288 with 1 Axes>"
      ]
     },
     "metadata": {
      "needs_background": "light"
     },
     "output_type": "display_data"
    }
   ],
   "source": [
    "X_train, X_test, y_train, y_test = train_test_split(\n",
    "    X_norm2, y2, test_size=0.3, random_state=None)\n",
    "clf2.fit(X_train, y_train)\n",
    "disp = plot_precision_recall_curve(clf2, X_test, y_test)\n",
    "disp.ax_.set_title('2-class Precision-Recall curve')\n"
   ]
  }
 ],
 "metadata": {
  "kernelspec": {
   "display_name": "Python 3 (ipykernel)",
   "language": "python",
   "name": "python3"
  },
  "language_info": {
   "codemirror_mode": {
    "name": "ipython",
    "version": 3
   },
   "file_extension": ".py",
   "mimetype": "text/x-python",
   "name": "python",
   "nbconvert_exporter": "python",
   "pygments_lexer": "ipython3",
   "version": "3.9.12"
  }
 },
 "nbformat": 4,
 "nbformat_minor": 5
}
